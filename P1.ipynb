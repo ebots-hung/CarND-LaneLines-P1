{
 "cells": [
  {
   "cell_type": "markdown",
   "metadata": {},
   "source": [
    "# Self-Driving Car Engineer Nanodegree\n",
    "\n",
    "\n",
    "## Project: **Finding Lane Lines on the Road** \n",
    "***\n",
    "In this project, you will use the tools you learned about in the lesson to identify lane lines on the road.  You can develop your pipeline on a series of individual images, and later apply the result to a video stream (really just a series of images). Check out the video clip \"raw-lines-example.mp4\" (also contained in this repository) to see what the output should look like after using the helper functions below. \n",
    "\n",
    "Once you have a result that looks roughly like \"raw-lines-example.mp4\", you'll need to get creative and try to average and/or extrapolate the line segments you've detected to map out the full extent of the lane lines.  You can see an example of the result you're going for in the video \"P1_example.mp4\".  Ultimately, you would like to draw just one line for the left side of the lane, and one for the right.\n",
    "\n",
    "In addition to implementing code, there is a brief writeup to complete. The writeup should be completed in a separate file, which can be either a markdown file or a pdf document. There is a [write up template](https://github.com/udacity/CarND-LaneLines-P1/blob/master/writeup_template.md) that can be used to guide the writing process. Completing both the code in the Ipython notebook and the writeup template will cover all of the [rubric points](https://review.udacity.com/#!/rubrics/322/view) for this project.\n",
    "\n",
    "---\n",
    "Let's have a look at our first image called 'test_images/solidWhiteRight.jpg'.  Run the 2 cells below (hit Shift-Enter or the \"play\" button above) to display the image.\n",
    "\n",
    "**Note: If, at any point, you encounter frozen display windows or other confounding issues, you can always start again with a clean slate by going to the \"Kernel\" menu above and selecting \"Restart & Clear Output\".**\n",
    "\n",
    "---"
   ]
  },
  {
   "cell_type": "markdown",
   "metadata": {},
   "source": [
    "**The tools you have are color selection, region of interest selection, grayscaling, Gaussian smoothing, Canny Edge Detection and Hough Tranform line detection.  You  are also free to explore and try other techniques that were not presented in the lesson.  Your goal is piece together a pipeline to detect the line segments in the image, then average/extrapolate them and draw them onto the image for display (as below).  Once you have a working pipeline, try it out on the video stream below.**\n",
    "\n",
    "---\n",
    "\n",
    "<figure>\n",
    " <img src=\"examples/line-segments-example.jpg\" width=\"380\" alt=\"Combined Image\" />\n",
    " <figcaption>\n",
    " <p></p> \n",
    " <p style=\"text-align: center;\"> Your output should look something like this (above) after detecting line segments using the helper functions below </p> \n",
    " </figcaption>\n",
    "</figure>\n",
    " <p></p> \n",
    "<figure>\n",
    " <img src=\"examples/laneLines_thirdPass.jpg\" width=\"380\" alt=\"Combined Image\" />\n",
    " <figcaption>\n",
    " <p></p> \n",
    " <p style=\"text-align: center;\"> Your goal is to connect/average/extrapolate line segments to get output like this</p> \n",
    " </figcaption>\n",
    "</figure>"
   ]
  },
  {
   "cell_type": "markdown",
   "metadata": {},
   "source": [
    "**Run the cell below to import some packages.  If you get an `import error` for a package you've already installed, try changing your kernel (select the Kernel menu above --> Change Kernel).  Still have problems?  Try relaunching Jupyter Notebook from the terminal prompt.  Also, consult the forums for more troubleshooting tips.**  "
   ]
  },
  {
   "cell_type": "markdown",
   "metadata": {},
   "source": [
    "## Import Packages"
   ]
  },
  {
   "cell_type": "code",
   "execution_count": 1,
   "metadata": {
    "collapsed": false
   },
   "outputs": [],
   "source": [
    "#importing some useful packages\n",
    "import matplotlib.pyplot as plt\n",
    "import matplotlib.image as mpimg\n",
    "import numpy as np\n",
    "import cv2\n",
    "import random\n",
    "from moviepy.editor import VideoFileClip\n",
    "from IPython.display import display, HTML\n",
    "%matplotlib inline"
   ]
  },
  {
   "cell_type": "markdown",
   "metadata": {},
   "source": [
    "## Read in an Image"
   ]
  },
  {
   "cell_type": "code",
   "execution_count": null,
   "metadata": {
    "collapsed": false
   },
   "outputs": [],
   "source": [
    "#reading in an image\n",
    "image = mpimg.imread('test_images/solidWhiteRight.jpg')\n",
    "\n",
    "#printing out some stats and plotting\n",
    "print('This image is:', type(image), 'with dimensions:', image.shape)\n",
    "plt.imshow(image)  # if you wanted to show a single color channel image called 'gray', for example, call as plt.imshow(gray, cmap='gray')"
   ]
  },
  {
   "cell_type": "markdown",
   "metadata": {},
   "source": [
    "## Ideas for Lane Detection Pipeline"
   ]
  },
  {
   "cell_type": "markdown",
   "metadata": {},
   "source": [
    "**Some OpenCV functions (beyond those introduced in the lesson) that might be useful for this project are:**\n",
    "\n",
    "`cv2.inRange()` for color selection  \n",
    "`cv2.fillPoly()` for regions selection  \n",
    "`cv2.line()` to draw lines on an image given endpoints  \n",
    "`cv2.addWeighted()` to coadd / overlay two images  \n",
    "`cv2.cvtColor()` to grayscale or change color  \n",
    "`cv2.imwrite()` to output images to file  \n",
    "`cv2.bitwise_and()` to apply a mask to an image\n",
    "\n",
    "**Check out the OpenCV documentation to learn about these and discover even more awesome functionality!**"
   ]
  },
  {
   "cell_type": "markdown",
   "metadata": {},
   "source": [
    "## Helper Functions"
   ]
  },
  {
   "cell_type": "markdown",
   "metadata": {},
   "source": [
    "Below are some helper functions to help get you started. They should look familiar from the lesson!"
   ]
  },
  {
   "cell_type": "code",
   "execution_count": 2,
   "metadata": {
    "collapsed": true
   },
   "outputs": [],
   "source": [
    "import math\n",
    "\n",
    "x1_left_li = []\n",
    "x2_left_li = []\n",
    "x1_right_li = []\n",
    "x2_right_li = []\n",
    "x1_left_a = 0\n",
    "x2_left_a = 0\n",
    "x1_right_a = 0\n",
    "x2_right_a = 0\n",
    "\n",
    "def grayscale(img):\n",
    "    \"\"\"Applies the Grayscale transform\n",
    "    This will return an image with only one color channel\n",
    "    but NOTE: to see the returned image as grayscale\n",
    "    (assuming your grayscaled image is called 'gray')\n",
    "    you should call plt.imshow(gray, cmap='gray')\"\"\"\n",
    "    return cv2.cvtColor(img, cv2.COLOR_RGB2GRAY)\n",
    "    # Or use BGR2GRAY if you read an image with cv2.imread()\n",
    "    # return cv2.cvtColor(img, cv2.COLOR_BGR2GRAY)\n",
    "    \n",
    "def canny(img, low_threshold, high_threshold):\n",
    "    \"\"\"Applies the Canny transform\"\"\"\n",
    "    return cv2.Canny(img, low_threshold, high_threshold)\n",
    "\n",
    "def gaussian_blur(img, kernel_size):\n",
    "    \"\"\"Applies a Gaussian Noise kernel\"\"\"\n",
    "    return cv2.GaussianBlur(img, (kernel_size, kernel_size), 0)\n",
    "\n",
    "def region_of_interest(img, vertices):\n",
    "    \"\"\"\n",
    "    Applies an image mask.\n",
    "    \n",
    "    Only keeps the region of the image defined by the polygon\n",
    "    formed from `vertices`. The rest of the image is set to black.\n",
    "    `vertices` should be a numpy array of integer points.\n",
    "    \"\"\"\n",
    "    #defining a blank mask to start with\n",
    "    mask = np.zeros_like(img)   \n",
    "    \n",
    "    #defining a 3 channel or 1 channel color to fill the mask with depending on the input image\n",
    "    if len(img.shape) > 2:\n",
    "        channel_count = img.shape[2]  # i.e. 3 or 4 depending on your image\n",
    "        ignore_mask_color = (255,) * channel_count\n",
    "    else:\n",
    "        ignore_mask_color = 255\n",
    "        \n",
    "    #filling pixels inside the polygon defined by \"vertices\" with the fill color    \n",
    "    cv2.fillPoly(mask, vertices, ignore_mask_color)\n",
    "    \n",
    "    #returning the image only where mask pixels are nonzero\n",
    "    masked_image = cv2.bitwise_and(img, mask)\n",
    "    return masked_image\n",
    "\n",
    "def mvg_avg_left(x1, x2, qty = 5):\n",
    "    \"\"\"\n",
    "    Calculates a simple moving average\n",
    "    `x1` is the x1 value\n",
    "    `x2` is the x2 value\n",
    "    `qty` is the number of values to consider in the moving average\n",
    "    \"\"\"\n",
    "    global x1_left_li, x2_left_li, x1_left_a, x2_left_a\n",
    "    if len(x1_left_li) > qty:\n",
    "        x1_left_li.pop(0) \n",
    "        x2_left_li.pop(0)\n",
    "    x1_left_li.append(x1)\n",
    "    x2_left_li.append(x2)\n",
    "    x1_left_a = int(sum(x1_left_li) / float(len(x1_left_li)))\n",
    "    x2_left_a = int(sum(x2_left_li) / float(len(x2_left_li)))\n",
    "    \n",
    "    \n",
    "def mvg_avg_right(x1, x2, qty = 5):\n",
    "    \"\"\"\n",
    "    Calculates a simple moving average\n",
    "    `x1` is the x1 value\n",
    "    `x2` is the x2 value\n",
    "    `qty` is the number of values to consider in the moving average\n",
    "    \"\"\"\n",
    "    global x1_right_li, x2_right_li, x1_right_a, x2_right_a\n",
    "    if len(x1_right_li) > qty: \n",
    "        x1_right_li.pop(0) \n",
    "        x2_right_li.pop(0) \n",
    "    x1_right_li.append(x1)\n",
    "    x2_right_li.append(x2)\n",
    "    x1_right_a = int(sum(x1_right_li) / float(len(x1_right_li)))\n",
    "    x2_right_a = int(sum(x2_right_li) / float(len(x2_right_li)))\n",
    "\n",
    "def draw_lines(img, lines, avg_qty = 5, y_min = 315, color=[255, 0, 0], thickness=10):\n",
    "    \"\"\"\n",
    "    NOTE: this is the function you might want to use as a starting point once you want to \n",
    "    average/extrapolate the line segments you detect to map out the full\n",
    "    extent of the lane (going from the result shown in raw-lines-example.mp4\n",
    "    to that shown in P1_example.mp4).  \n",
    "    \n",
    "    Think about things like separating line segments by their \n",
    "    slope ((y2-y1)/(x2-x1)) to decide which segments are part of the left\n",
    "    line vs. the right line.  Then, you can average the position of each of \n",
    "    the lines and extrapolate to the top and bottom of the lane.\n",
    "    \n",
    "    This function draws `lines` with `color` and `thickness`.    \n",
    "    Lines are drawn on the image inplace (mutates the image).\n",
    "    If you want to make the lines semi-transparent, think about combining\n",
    "    this function with the weighted_img() function below\n",
    "    \"\"\"\n",
    "    # original solution\n",
    "    # for line in lines:\n",
    "    #     for x1,y1,x2,y2 in line:\n",
    "    #         cv2.line(img, (x1, y1), (x2, y2), color, thickness)\n",
    "\n",
    "    # new solution\n",
    "      # Generate lists to store values\n",
    "    x1_left = []\n",
    "    x2_left = []\n",
    "    y1_left = []\n",
    "    y2_left = []\n",
    "    x1_right = []\n",
    "    x2_right = []\n",
    "    y1_right = []\n",
    "    y2_right = []\n",
    "    \n",
    "    # Add the line values to the appropriate list\n",
    "    for line in lines:\n",
    "        for x1,y1,x2,y2 in line:\n",
    "            slope = (y2-y1)/(x2-x1) # get the slope\n",
    "            if slope >= 0:\n",
    "                # positive slope, right line\n",
    "                x1_right.append(x1)\n",
    "                x2_right.append(x2)\n",
    "                y1_right.append(y1)\n",
    "                y2_right.append(y2)\n",
    "            else:\n",
    "                # negative slope, left line\n",
    "                x1_left.append(x1)\n",
    "                x2_left.append(x2)\n",
    "                y1_left.append(y1)\n",
    "                y2_left.append(y2)\n",
    "            \n",
    "    # Compute the average value for each point\n",
    "    x1_left_avg = (sum(x1_left) / float(len(x1_left))) if len(x1_left) != 0 else 0\n",
    "    x2_left_avg = (sum(x2_left) / float(len(x2_left))) if len(x2_left) != 0 else 0\n",
    "    y1_left_avg = (sum(y1_left) / float(len(y1_left))) if len(y1_left) != 0 else 0\n",
    "    y2_left_avg = (sum(y2_left) / float(len(y2_left))) if len(y2_left) != 0 else 0\n",
    "    x1_right_avg = (sum(x1_right) / float(len(x1_right))) if len(x1_right) != 0 else 0\n",
    "    x2_right_avg = (sum(x2_right) / float(len(x2_right))) if len(x2_right) != 0 else 0\n",
    "    y1_right_avg = (sum(y1_right) / float(len(y1_right))) if len(y1_right) != 0 else 0\n",
    "    y2_right_avg = (sum(y2_right) / float(len(y2_right))) if len(y2_right) != 0 else 0\n",
    "    \n",
    "    # Get the slope denominator for each side\n",
    "    left_denom = (x2_left_avg - x1_left_avg)\n",
    "    right_denom = (x2_right_avg - x1_right_avg) \n",
    "    \n",
    "    # Get the x,y dimension of the image\n",
    "    x = img.shape[1]\n",
    "    y = img.shape[0]\n",
    "    \n",
    "    # Calculate the extended lines and get the moving average\n",
    "    if left_denom != 0:\n",
    "        # Get the slope\n",
    "        left_slope = ((y2_left_avg - y1_left_avg) / left_denom)\n",
    "        \n",
    "        # Get the intercept\n",
    "        left_b = y2_left_avg - left_slope * x2_left_avg\n",
    "        \n",
    "        # Calculate lines\n",
    "        x1 = int((y_min - left_b) / left_slope)\n",
    "        x2 = int((y - left_b) / left_slope)\n",
    "        \n",
    "        # Update moving averages if difference < 20% from average\n",
    "        mvg_avg_left(x1, x2, avg_qty)\n",
    "        \n",
    "    if right_denom != 0:\n",
    "        # Get the slope\n",
    "        right_slope = ((y2_right_avg - y1_right_avg) / right_denom)\n",
    "        \n",
    "        # Get the intercept\n",
    "        right_b = y2_right_avg - right_slope * x2_right_avg\n",
    "        \n",
    "        # Calculate lines\n",
    "        x1 = int((y_min - right_b) / right_slope)\n",
    "        x2 = int((y - right_b) / right_slope)\n",
    "        \n",
    "        # Update moving averages\n",
    "        mvg_avg_right(x1, x2, avg_qty)\n",
    "    \n",
    "    # Plot the lines\n",
    "    cv2.line(img, (x1_left_a, y_min), (x2_left_a, y), color, thickness)\n",
    "    cv2.line(img, (x1_right_a, y_min), (x2_right_a, y), color, thickness)\n",
    "\n",
    "def hough_lines(img, rho, theta, threshold, min_line_len, max_line_gap):\n",
    "    \"\"\"\n",
    "    `img` should be the output of a Canny transform.\n",
    "        \n",
    "    Returns an image with hough lines drawn.\n",
    "    \"\"\"\n",
    "    lines = cv2.HoughLinesP(img, rho, theta, threshold, np.array([]), minLineLength=min_line_len, maxLineGap=max_line_gap)\n",
    "    line_img = np.zeros((img.shape[0], img.shape[1], 3), dtype=np.uint8)\n",
    "    draw_lines(line_img, lines)\n",
    "    return line_img\n",
    "\n",
    "# Python 3 has support for cool math symbols.\n",
    "\n",
    "def weighted_img(img, initial_img, α=0.8, β=1., γ=0.):\n",
    "    \"\"\"\n",
    "    `img` is the output of the hough_lines(), An image with lines drawn on it.\n",
    "    Should be a blank image (all black) with lines drawn on it.\n",
    "    \n",
    "    `initial_img` should be the image before any processing.\n",
    "    \n",
    "    The result image is computed as follows:\n",
    "    \n",
    "    initial_img * α + img * β + γ\n",
    "    NOTE: initial_img and img must be the same shape!\n",
    "    \"\"\"\n",
    "    return cv2.addWeighted(initial_img, α, img, β, γ)\n",
    "\n",
    "def showImagesInHtml(images, dir):\n",
    "    \"\"\"\n",
    "    Shows the list of `images` names on the directory `dir` as HTML embeded on the page.\n",
    "    Author: darienmt\n",
    "    \"\"\"\n",
    "    randomNumber = random.randint(1, 100000)\n",
    "    buffer = \"<div>\"\n",
    "    for img in images:\n",
    "        imgSource = dir + img + \"?\" + str(randomNumber)\n",
    "        buffer += \"\"\"<img src=\"{0}\" width=\"300\" height=\"110\" style=\"float:left; margin:1px\"/>\"\"\".format(imgSource)\n",
    "    buffer += \"</div>\"\n",
    "    display(HTML(buffer))\n",
    "\n",
    "def saveImages(images, outputDir, imageNames, isGray=0):\n",
    "    \"\"\"\n",
    "    Writes the `images` to the `outputDir` directory using the `imagesNames`.\n",
    "    It creates the output directory if it doesn't exists.\n",
    "    Author: darienmt\n",
    "    Example:\n",
    "    \n",
    "    saveImages([img1], 'tempDir', ['myImage.jpg'])\n",
    "    \n",
    "    Will save the image on the path: tempDir/myImage.jpg\n",
    "    \n",
    "    \"\"\"\n",
    "    if not os.path.exists(outputDir):\n",
    "        os.makedirs(outputDir)\n",
    "        \n",
    "    zipped = list(map(lambda imgZip: (outputDir + imgZip[1], imgZip[0]), zip(images, imageNames)))\n",
    "    for imgPair in zipped:\n",
    "        if isGray:\n",
    "            plt.imsave(imgPair[0], imgPair[1], cmap='gray')\n",
    "        else :\n",
    "            plt.imsave(imgPair[0], imgPair[1])\n",
    "        \n",
    "def doSaveAndDisplay(images, outputDir, imageNames, somethingToDo, isGray=0):\n",
    "    \"\"\"\n",
    "    Applies the lambda `somethingToDo` to `images`, safe the results at the directory `outputDir`,\n",
    "    and render the results in html.\n",
    "    \n",
    "    It returns the output images.\n",
    "    Author: darienmt\n",
    "    \"\"\"\n",
    "    outputImages = list(map(somethingToDo, images))\n",
    "    saveImages(outputImages, outputDir, imageNames, isGray)\n",
    "    showImagesInHtml(imageNames, outputDir)\n",
    "    return outputImages    "
   ]
  },
  {
   "cell_type": "markdown",
   "metadata": {},
   "source": [
    "## Test Images\n",
    "\n",
    "Build your pipeline to work on the images in the directory \"test_images\"  \n",
    "**You should make sure your pipeline works well on these images before you try the videos.**"
   ]
  },
  {
   "cell_type": "code",
   "execution_count": 9,
   "metadata": {
    "collapsed": false
   },
   "outputs": [
    {
     "output_type": "display_data",
     "data": {
      "text/plain": "<IPython.core.display.HTML object>",
      "text/html": "<div><img src=\"test_images/whiteCarLaneSwitch.jpg?33874\" width=\"300\" height=\"110\" style=\"float:left; margin:1px\"/><img src=\"test_images/solidYellowLeft.jpg?33874\" width=\"300\" height=\"110\" style=\"float:left; margin:1px\"/><img src=\"test_images/solidYellowCurve.jpg?33874\" width=\"300\" height=\"110\" style=\"float:left; margin:1px\"/><img src=\"test_images/solidWhiteRight.jpg?33874\" width=\"300\" height=\"110\" style=\"float:left; margin:1px\"/><img src=\"test_images/solidYellowCurve2.jpg?33874\" width=\"300\" height=\"110\" style=\"float:left; margin:1px\"/><img src=\"test_images/solidWhiteCurve.jpg?33874\" width=\"300\" height=\"110\" style=\"float:left; margin:1px\"/></div>"
     },
     "metadata": {}
    }
   ],
   "source": [
    "# Step 1 - Load test images\n",
    "import os\n",
    "test_img_dir = 'test_images/'\n",
    "test_img_names = os.listdir(test_img_dir)\n",
    "test_images = list(map(lambda img: plt.imread(test_img_dir + img), test_img_names))\n",
    "showImagesInHtml(test_img_names, test_img_dir)"
   ]
  },
  {
   "cell_type": "markdown",
   "metadata": {},
   "source": [
    "## Build a Lane Finding Pipeline\n",
    "\n"
   ]
  },
  {
   "cell_type": "markdown",
   "metadata": {},
   "source": [
    "Build the pipeline and run your solution on all test_images. Make copies into the `test_images_output` directory, and you can use the images in your writeup report.\n",
    "\n",
    "Try tuning the various parameters, especially the low and high Canny thresholds as well as the Hough lines parameters."
   ]
  },
  {
   "cell_type": "code",
   "execution_count": 10,
   "metadata": {
    "collapsed": true
   },
   "outputs": [
    {
     "output_type": "display_data",
     "data": {
      "text/plain": "<IPython.core.display.HTML object>",
      "text/html": "<div><img src=\"test_images_01_grayscale/whiteCarLaneSwitch.jpg?59409\" width=\"300\" height=\"110\" style=\"float:left; margin:1px\"/><img src=\"test_images_01_grayscale/solidYellowLeft.jpg?59409\" width=\"300\" height=\"110\" style=\"float:left; margin:1px\"/><img src=\"test_images_01_grayscale/solidYellowCurve.jpg?59409\" width=\"300\" height=\"110\" style=\"float:left; margin:1px\"/><img src=\"test_images_01_grayscale/solidWhiteRight.jpg?59409\" width=\"300\" height=\"110\" style=\"float:left; margin:1px\"/><img src=\"test_images_01_grayscale/solidYellowCurve2.jpg?59409\" width=\"300\" height=\"110\" style=\"float:left; margin:1px\"/><img src=\"test_images_01_grayscale/solidWhiteCurve.jpg?59409\" width=\"300\" height=\"110\" style=\"float:left; margin:1px\"/></div>"
     },
     "metadata": {}
    }
   ],
   "source": [
    "# TODO: Build your pipeline that will draw lane lines on the test_images\n",
    "# then save them to the test_images_output directory.\n",
    "# Update: quochung11@gmail.com\n",
    "\n",
    "# Step 2 - convert the images to grayscale\n",
    "test_images_grayscale = doSaveAndDisplay(test_images, 'test_images_01_grayscale/', test_img_names, grayscale, 1)"
   ]
  },
  {
   "cell_type": "code",
   "execution_count": 11,
   "metadata": {},
   "outputs": [
    {
     "output_type": "display_data",
     "data": {
      "text/plain": "<IPython.core.display.HTML object>",
      "text/html": "<div><img src=\"test_images_02_Gaussiansmoothing/whiteCarLaneSwitch.jpg?21604\" width=\"300\" height=\"110\" style=\"float:left; margin:1px\"/><img src=\"test_images_02_Gaussiansmoothing/solidYellowLeft.jpg?21604\" width=\"300\" height=\"110\" style=\"float:left; margin:1px\"/><img src=\"test_images_02_Gaussiansmoothing/solidYellowCurve.jpg?21604\" width=\"300\" height=\"110\" style=\"float:left; margin:1px\"/><img src=\"test_images_02_Gaussiansmoothing/solidWhiteRight.jpg?21604\" width=\"300\" height=\"110\" style=\"float:left; margin:1px\"/><img src=\"test_images_02_Gaussiansmoothing/solidYellowCurve2.jpg?21604\" width=\"300\" height=\"110\" style=\"float:left; margin:1px\"/><img src=\"test_images_02_Gaussiansmoothing/solidWhiteCurve.jpg?21604\" width=\"300\" height=\"110\" style=\"float:left; margin:1px\"/></div>"
     },
     "metadata": {}
    }
   ],
   "source": [
    "# Step 3 - Applying Gaussionblur filter for Images smoothing\n",
    "blur_kernel_size = 15\n",
    "blurAction = lambda img:gaussian_blur(img, blur_kernel_size)\n",
    "test_images_gaussiansmoothing = doSaveAndDisplay(test_images_grayscale, 'test_images_02_Gaussiansmoothing/', test_img_names, blurAction, 1)"
   ]
  },
  {
   "cell_type": "code",
   "execution_count": 12,
   "metadata": {},
   "outputs": [
    {
     "output_type": "display_data",
     "data": {
      "text/plain": "<IPython.core.display.HTML object>",
      "text/html": "<div><img src=\"test_images_03_canny_transform/whiteCarLaneSwitch.jpg?77717\" width=\"300\" height=\"110\" style=\"float:left; margin:1px\"/><img src=\"test_images_03_canny_transform/solidYellowLeft.jpg?77717\" width=\"300\" height=\"110\" style=\"float:left; margin:1px\"/><img src=\"test_images_03_canny_transform/solidYellowCurve.jpg?77717\" width=\"300\" height=\"110\" style=\"float:left; margin:1px\"/><img src=\"test_images_03_canny_transform/solidWhiteRight.jpg?77717\" width=\"300\" height=\"110\" style=\"float:left; margin:1px\"/><img src=\"test_images_03_canny_transform/solidYellowCurve2.jpg?77717\" width=\"300\" height=\"110\" style=\"float:left; margin:1px\"/><img src=\"test_images_03_canny_transform/solidWhiteCurve.jpg?77717\" width=\"300\" height=\"110\" style=\"float:left; margin:1px\"/></div>"
     },
     "metadata": {}
    }
   ],
   "source": [
    "# Step 4 - Applying Canny transform for edges detection\n",
    "canny_low_threshold = 30\n",
    "canny_high_threshold = 150\n",
    "cannyAction = lambda img:canny(img, canny_low_threshold, canny_high_threshold)\n",
    "test_images_canny = doSaveAndDisplay(test_images_gaussiansmoothing, 'test_images_03_canny_transform/', test_img_names, cannyAction)"
   ]
  },
  {
   "cell_type": "code",
   "execution_count": 13,
   "metadata": {},
   "outputs": [
    {
     "output_type": "display_data",
     "data": {
      "text/plain": "<IPython.core.display.HTML object>",
      "text/html": "<div><img src=\"test_images_04_roi/whiteCarLaneSwitch.jpg?59851\" width=\"300\" height=\"110\" style=\"float:left; margin:1px\"/><img src=\"test_images_04_roi/solidYellowLeft.jpg?59851\" width=\"300\" height=\"110\" style=\"float:left; margin:1px\"/><img src=\"test_images_04_roi/solidYellowCurve.jpg?59851\" width=\"300\" height=\"110\" style=\"float:left; margin:1px\"/><img src=\"test_images_04_roi/solidWhiteRight.jpg?59851\" width=\"300\" height=\"110\" style=\"float:left; margin:1px\"/><img src=\"test_images_04_roi/solidYellowCurve2.jpg?59851\" width=\"300\" height=\"110\" style=\"float:left; margin:1px\"/><img src=\"test_images_04_roi/solidWhiteCurve.jpg?59851\" width=\"300\" height=\"110\" style=\"float:left; margin:1px\"/></div>"
     },
     "metadata": {}
    }
   ],
   "source": [
    "# Step 5 - Applying ROI \n",
    "def ROIAction(img):\n",
    "    ysize = img.shape[0]\n",
    "    xsize = img.shape[1]\n",
    "    reg_of_interest = np.array([ [0, ysize], [xsize/2,(ysize/2)+60], [xsize,ysize] ], np.int32)\n",
    "    return region_of_interest(img, [reg_of_interest])\n",
    "\n",
    "test_images_roi = doSaveAndDisplay(test_images_canny, 'test_images_04_roi/', test_img_names, ROIAction)"
   ]
  },
  {
   "cell_type": "code",
   "execution_count": 14,
   "metadata": {},
   "outputs": [
    {
     "output_type": "display_data",
     "data": {
      "text/plain": "<IPython.core.display.HTML object>",
      "text/html": "<div><img src=\"test_images_05_houghtransform/whiteCarLaneSwitch.jpg?63370\" width=\"300\" height=\"110\" style=\"float:left; margin:1px\"/><img src=\"test_images_05_houghtransform/solidYellowLeft.jpg?63370\" width=\"300\" height=\"110\" style=\"float:left; margin:1px\"/><img src=\"test_images_05_houghtransform/solidYellowCurve.jpg?63370\" width=\"300\" height=\"110\" style=\"float:left; margin:1px\"/><img src=\"test_images_05_houghtransform/solidWhiteRight.jpg?63370\" width=\"300\" height=\"110\" style=\"float:left; margin:1px\"/><img src=\"test_images_05_houghtransform/solidYellowCurve2.jpg?63370\" width=\"300\" height=\"110\" style=\"float:left; margin:1px\"/><img src=\"test_images_05_houghtransform/solidWhiteCurve.jpg?63370\" width=\"300\" height=\"110\" style=\"float:left; margin:1px\"/></div>"
     },
     "metadata": {}
    }
   ],
   "source": [
    "# Step 6 - Applying Hough transform for lines segment\n",
    "rho = 2                     # distance resolution in pixels of the Hough grid\n",
    "theta = np.pi/180           # angular resolution in radians of the Hough grid\n",
    "threshold = 20              # minimum number of votes (intersections in Hough grid cell)\n",
    "min_line_length = 60       # minimum number of pixels making up a line\n",
    "max_line_gap = 5            # maximum gap in pixels between connectable line segments\n",
    "\n",
    "houghAction = lambda img: hough_lines(img, rho, theta, threshold, min_line_length, max_line_gap)\n",
    "\n",
    "test_images_hough = doSaveAndDisplay(test_images_roi, 'test_images_05_houghtransform/', test_img_names, houghAction)"
   ]
  },
  {
   "cell_type": "code",
   "execution_count": 15,
   "metadata": {},
   "outputs": [
    {
     "output_type": "display_data",
     "data": {
      "text/plain": "<IPython.core.display.HTML object>",
      "text/html": "<div><img src=\"test_images_06_merge/whiteCarLaneSwitch.jpg?28557\" width=\"300\" height=\"110\" style=\"float:left; margin:1px\"/><img src=\"test_images_06_merge/solidYellowLeft.jpg?28557\" width=\"300\" height=\"110\" style=\"float:left; margin:1px\"/><img src=\"test_images_06_merge/solidYellowCurve.jpg?28557\" width=\"300\" height=\"110\" style=\"float:left; margin:1px\"/><img src=\"test_images_06_merge/solidWhiteRight.jpg?28557\" width=\"300\" height=\"110\" style=\"float:left; margin:1px\"/><img src=\"test_images_06_merge/solidYellowCurve2.jpg?28557\" width=\"300\" height=\"110\" style=\"float:left; margin:1px\"/><img src=\"test_images_06_merge/solidWhiteCurve.jpg?28557\" width=\"300\" height=\"110\" style=\"float:left; margin:1px\"/></div>"
     },
     "metadata": {}
    }
   ],
   "source": [
    "# Step 7 - Merged frame\n",
    "test_image_merge_temp = list(map(lambda imgs: weighted_img(imgs[0], imgs[1]), zip(test_images,test_images_hough)))\n",
    "test_images_merge = doSaveAndDisplay(test_image_merge_temp, 'test_images_06_merge/', test_img_names, lambda img: img)"
   ]
  },
  {
   "source": [
    "## Test on Videos\n",
    "\n",
    "You know what's cooler than drawing lanes over images? Drawing lanes over video!\n",
    "\n",
    "We can test our solution on two provided videos:\n",
    "\n",
    "`solidWhiteRight.mp4`\n",
    "\n",
    "`solidYellowLeft.mp4`\n",
    "\n",
    "**Note: if you get an import error when you run the next cell, try changing your kernel (select the Kernel menu above --> Change Kernel). Still have problems? Try relaunching Jupyter Notebook from the terminal prompt. Also, consult the forums for more troubleshooting tips.**\n",
    "\n",
    "**If you get an error that looks like this:**\n",
    "```\n",
    "NeedDownloadError: Need ffmpeg exe. \n",
    "You can download it by calling: \n",
    "imageio.plugins.ffmpeg.download()\n",
    "```\n",
    "**Follow the instructions in the error message and check out [this forum post](https://discussions.udacity.com/t/project-error-of-test-on-videos/274082) for more troubleshooting tips across operating systems.**"
   ],
   "cell_type": "code",
   "metadata": {},
   "execution_count": null,
   "outputs": []
  },
  {
   "cell_type": "code",
   "execution_count": 4,
   "metadata": {
    "collapsed": true
   },
   "outputs": [],
   "source": [
    "# Import everything needed to edit/save/watch video clips\n",
    "from moviepy.editor import VideoFileClip\n",
    "from IPython.display import HTML"
   ]
  },
  {
   "cell_type": "code",
   "execution_count": 5,
   "metadata": {
    "collapsed": true
   },
   "outputs": [],
   "source": [
    "def process_image(image):\n",
    "    # NOTE: The output you return should be a color image (3 channel) for processing video below\n",
    "    # TODO: put your pipeline here,\n",
    "    # you should return the final output (image where lines are drawn on lanes)\n",
    "\n",
    "    # define params\n",
    "    blur_kernel_size        = 15\n",
    "    canny_low_threshold     = 30\n",
    "    canny_high_threshold    = 150\n",
    "    rho             = 2                     \n",
    "    theta           = np.pi/180           \n",
    "    threshold       = 20              \n",
    "    min_line_length = 60       \n",
    "    max_line_gap    = 5\n",
    "\n",
    "    # run image processing\n",
    "    vid_fr_gray = grayscale(image)\n",
    "    vid_fr_blur = gaussian_blur(vid_fr_gray, blur_kernel_size)\n",
    "    vid_fr_cann = canny(vid_fr_blur, canny_low_threshold, canny_high_threshold)\n",
    "    vid_fr_roi  = ROIAction(vid_fr_cann)\n",
    "    vid_fr_houg = hough_lines(vid_fr_roi, rho, theta, threshold, min_line_length, max_line_gap)\n",
    "    vid_fr_merg = weighted_img(vid_fr_houg, image)\n",
    "    \n",
    "    # return result\n",
    "    return vid_fr_merg"
   ]
  },
  {
   "cell_type": "markdown",
   "metadata": {},
   "source": [
    "Let's try the one with the solid white lane on the right first ..."
   ]
  },
  {
   "cell_type": "code",
   "execution_count": null,
   "metadata": {
    "collapsed": false
   },
   "outputs": [],
   "source": [
    "white_output = 'test_videos_output/solidWhiteRight.mp4'\n",
    "## To speed up the testing process you may want to try your pipeline on a shorter subclip of the video\n",
    "## To do so add .subclip(start_second,end_second) to the end of the line below\n",
    "## Where start_second and end_second are integer values representing the start and end of the subclip\n",
    "## You may also uncomment the following line for a subclip of the first 5 seconds\n",
    "##clip1 = VideoFileClip(\"test_videos/solidWhiteRight.mp4\").subclip(0,5)\n",
    "clip1 = VideoFileClip(\"test_videos/solidWhiteRight.mp4\")\n",
    "white_clip = clip1.fl_image(process_image) #NOTE: this function expects color images!!\n",
    "%time white_clip.write_videofile(white_output, audio=False)"
   ]
  },
  {
   "cell_type": "markdown",
   "metadata": {},
   "source": [
    "Play the video inline, or if you prefer find the video in your filesystem (should be in the same directory) and play it in your video player of choice."
   ]
  },
  {
   "cell_type": "code",
   "execution_count": null,
   "metadata": {
    "collapsed": false
   },
   "outputs": [],
   "source": [
    "HTML(\"\"\"\n",
    "<video width=\"960\" height=\"540\" controls>\n",
    "  <source src=\"{0}\">\n",
    "</video>\n",
    "\"\"\".format(white_output))"
   ]
  },
  {
   "cell_type": "markdown",
   "metadata": {},
   "source": [
    "## Improve the draw_lines() function\n",
    "\n",
    "**At this point, if you were successful with making the pipeline and tuning parameters, you probably have the Hough line segments drawn onto the road, but what about identifying the full extent of the lane and marking it clearly as in the example video (P1_example.mp4)?  Think about defining a line to run the full length of the visible lane based on the line segments you identified with the Hough Transform. As mentioned previously, try to average and/or extrapolate the line segments you've detected to map out the full extent of the lane lines. You can see an example of the result you're going for in the video \"P1_example.mp4\".**\n",
    "\n",
    "**Go back and modify your draw_lines function accordingly and try re-running your pipeline. The new output should draw a single, solid line over the left lane line and a single, solid line over the right lane line. The lines should start from the bottom of the image and extend out to the top of the region of interest.**"
   ]
  },
  {
   "cell_type": "markdown",
   "metadata": {},
   "source": [
    "Now for the one with the solid yellow lane on the left. This one's more tricky!"
   ]
  },
  {
   "cell_type": "code",
   "execution_count": 18,
   "metadata": {
    "collapsed": false
   },
   "outputs": [
    {
     "output_type": "stream",
     "name": "stderr",
     "text": [
      "\n",
      "t:   1%|          | 3/251 [01:17<1:46:29, 25.76s/it, now=None]\n",
      "\n",
      "t:   1%|          | 3/251 [01:17<1:46:29, 25.77s/it, now=None]\n",
      "t:   2%|▏         | 3/125 [00:28<19:31,  9.61s/it, now=None]\u001b[A\n",
      "\n",
      "t:   0%|          | 0/681 [00:00<?, ?it/s, now=None]\u001b[A\u001b[A\n",
      "\n",
      "t:   3%|▎         | 19/681 [00:00<00:03, 188.94it/s, now=None]\u001b[A\u001b[AMoviepy - Building video test_videos_output/solidYellowLeft.mp4.\n",
      "Moviepy - Writing video test_videos_output/solidYellowLeft.mp4\n",
      "\n",
      "\n",
      "\n",
      "t:   6%|▌         | 40/681 [00:00<00:03, 194.72it/s, now=None]\u001b[A\u001b[A\n",
      "\n",
      "t:   7%|▋         | 51/681 [00:00<00:04, 147.13it/s, now=None]\u001b[A\u001b[A\n",
      "\n",
      "t:  10%|▉         | 65/681 [00:00<00:04, 141.81it/s, now=None]\u001b[A\u001b[A\n",
      "\n",
      "t:  11%|█         | 76/681 [00:00<00:04, 128.63it/s, now=None]\u001b[A\u001b[A\n",
      "\n",
      "t:  13%|█▎        | 88/681 [00:00<00:04, 123.53it/s, now=None]\u001b[A\u001b[A\n",
      "\n",
      "t:  15%|█▍        | 100/681 [00:00<00:04, 119.20it/s, now=None]\u001b[A\u001b[A\n",
      "\n",
      "t:  16%|█▋        | 111/681 [00:00<00:05, 111.60it/s, now=None]\u001b[A\u001b[A\n",
      "\n",
      "t:  18%|█▊        | 122/681 [00:00<00:05, 107.59it/s, now=None]\u001b[A\u001b[A\n",
      "\n",
      "t:  20%|█▉        | 134/681 [00:01<00:05, 108.56it/s, now=None]\u001b[A\u001b[A\n",
      "\n",
      "t:  21%|██▏       | 145/681 [00:01<00:05, 105.68it/s, now=None]\u001b[A\u001b[A\n",
      "\n",
      "t:  23%|██▎       | 156/681 [00:01<00:05, 99.76it/s, now=None] \u001b[A\u001b[A\n",
      "\n",
      "t:  25%|██▍       | 168/681 [00:01<00:05, 101.42it/s, now=None]\u001b[A\u001b[A\n",
      "\n",
      "t:  26%|██▋       | 179/681 [00:01<00:04, 100.69it/s, now=None]\u001b[A\u001b[A\n",
      "\n",
      "t:  28%|██▊       | 190/681 [00:01<00:04, 101.68it/s, now=None]\u001b[A\u001b[A\n",
      "\n",
      "t:  30%|██▉       | 201/681 [00:01<00:04, 101.06it/s, now=None]\u001b[A\u001b[A\n",
      "\n",
      "t:  31%|███       | 212/681 [00:01<00:04, 100.29it/s, now=None]\u001b[A\u001b[A\n",
      "\n",
      "t:  33%|███▎      | 223/681 [00:01<00:04, 100.79it/s, now=None]\u001b[A\u001b[A\n",
      "\n",
      "t:  34%|███▍      | 234/681 [00:02<00:04, 102.79it/s, now=None]\u001b[A\u001b[A\n",
      "\n",
      "t:  36%|███▌      | 246/681 [00:02<00:04, 106.84it/s, now=None]\u001b[A\u001b[A\n",
      "\n",
      "t:  38%|███▊      | 257/681 [00:02<00:04, 103.89it/s, now=None]\u001b[A\u001b[A\n",
      "\n",
      "t:  39%|███▉      | 268/681 [00:02<00:03, 104.39it/s, now=None]\u001b[A\u001b[A\n",
      "\n",
      "t:  41%|████      | 280/681 [00:02<00:03, 107.10it/s, now=None]\u001b[A\u001b[A\n",
      "\n",
      "t:  43%|████▎     | 291/681 [00:02<00:03, 97.79it/s, now=None] \u001b[A\u001b[A\n",
      "\n",
      "t:  44%|████▍     | 301/681 [00:02<00:04, 93.28it/s, now=None]\u001b[A\u001b[A\n",
      "\n",
      "t:  46%|████▌     | 311/681 [00:02<00:03, 94.80it/s, now=None]\u001b[A\u001b[A\n",
      "\n",
      "t:  47%|████▋     | 322/681 [00:02<00:03, 98.38it/s, now=None]\u001b[A\u001b[A\n",
      "\n",
      "t:  49%|████▉     | 334/681 [00:03<00:03, 102.03it/s, now=None]\u001b[A\u001b[A\n",
      "\n",
      "t:  51%|█████     | 345/681 [00:03<00:03, 103.63it/s, now=None]\u001b[A\u001b[A\n",
      "\n",
      "t:  52%|█████▏    | 356/681 [00:03<00:03, 100.44it/s, now=None]\u001b[A\u001b[A\n",
      "\n",
      "t:  54%|█████▍    | 367/681 [00:03<00:03, 97.57it/s, now=None] \u001b[A\u001b[A\n",
      "\n",
      "t:  55%|█████▌    | 377/681 [00:03<00:03, 97.84it/s, now=None]\u001b[A\u001b[A\n",
      "\n",
      "t:  57%|█████▋    | 389/681 [00:03<00:02, 101.99it/s, now=None]\u001b[A\u001b[A\n",
      "\n",
      "t:  59%|█████▊    | 400/681 [00:03<00:02, 103.05it/s, now=None]\u001b[A\u001b[A\n",
      "\n",
      "t:  60%|██████    | 411/681 [00:03<00:02, 98.09it/s, now=None] \u001b[A\u001b[A\n",
      "\n",
      "t:  62%|██████▏   | 422/681 [00:03<00:02, 98.31it/s, now=None]\u001b[A\u001b[A\n",
      "\n",
      "t:  64%|██████▎   | 434/681 [00:04<00:02, 103.93it/s, now=None]\u001b[A\u001b[A\n",
      "\n",
      "t:  65%|██████▌   | 445/681 [00:04<00:02, 103.55it/s, now=None]\u001b[A\u001b[A\n",
      "\n",
      "t:  67%|██████▋   | 456/681 [00:04<00:02, 96.11it/s, now=None] \u001b[A\u001b[A\n",
      "\n",
      "t:  69%|██████▊   | 467/681 [00:04<00:02, 98.26it/s, now=None]\u001b[A\u001b[A\n",
      "\n",
      "t:  70%|███████   | 477/681 [00:04<00:02, 96.90it/s, now=None]\u001b[A\u001b[A\n",
      "\n",
      "t:  72%|███████▏  | 488/681 [00:04<00:01, 100.14it/s, now=None]\u001b[A\u001b[A\n",
      "\n",
      "t:  73%|███████▎  | 499/681 [00:04<00:01, 102.78it/s, now=None]\u001b[A\u001b[A\n",
      "\n",
      "t:  75%|███████▍  | 510/681 [00:04<00:01, 99.79it/s, now=None] \u001b[A\u001b[A\n",
      "\n",
      "t:  77%|███████▋  | 521/681 [00:04<00:01, 100.94it/s, now=None]\u001b[A\u001b[A\n",
      "\n",
      "t:  78%|███████▊  | 532/681 [00:05<00:01, 101.61it/s, now=None]\u001b[A\u001b[A\n",
      "\n",
      "t:  80%|███████▉  | 543/681 [00:05<00:01, 97.84it/s, now=None] \u001b[A\u001b[A\n",
      "\n",
      "t:  81%|████████  | 553/681 [00:05<00:01, 95.92it/s, now=None]\u001b[A\u001b[A\n",
      "\n",
      "t:  83%|████████▎ | 565/681 [00:05<00:01, 101.19it/s, now=None]\u001b[A\u001b[A\n",
      "\n",
      "t:  85%|████████▍ | 576/681 [00:05<00:01, 102.44it/s, now=None]\u001b[A\u001b[A\n",
      "\n",
      "t:  86%|████████▌ | 587/681 [00:05<00:00, 103.53it/s, now=None]\u001b[A\u001b[A\n",
      "\n",
      "t:  88%|████████▊ | 598/681 [00:05<00:00, 90.58it/s, now=None] \u001b[A\u001b[A\n",
      "\n",
      "t:  89%|████████▉ | 608/681 [00:05<00:00, 90.97it/s, now=None]\u001b[A\u001b[A\n",
      "\n",
      "t:  91%|█████████ | 619/681 [00:05<00:00, 95.27it/s, now=None]\u001b[A\u001b[A\n",
      "\n",
      "t:  92%|█████████▏| 629/681 [00:06<00:00, 95.82it/s, now=None]\u001b[A\u001b[A\n",
      "\n",
      "t:  94%|█████████▍| 639/681 [00:06<00:00, 96.88it/s, now=None]\u001b[A\u001b[A\n",
      "\n",
      "t:  95%|█████████▌| 649/681 [00:06<00:00, 97.40it/s, now=None]\u001b[A\u001b[A\n",
      "\n",
      "t:  97%|█████████▋| 660/681 [00:06<00:00, 99.26it/s, now=None]\u001b[A\u001b[A\n",
      "\n",
      "t:  98%|█████████▊| 670/681 [00:06<00:00, 94.93it/s, now=None]\u001b[A\u001b[A\n",
      "\n",
      "t: 100%|██████████| 681/681 [00:06<00:00, 97.00it/s, now=None]\u001b[A\u001b[A\n",
      "\n",
      "\n",
      "t:   1%|          | 3/251 [01:24<1:55:58, 28.06s/it, now=None]\n",
      "\n",
      "t:   1%|          | 3/251 [01:24<1:55:59, 28.06s/it, now=None]\n",
      "t:   2%|▏         | 3/125 [00:35<24:11, 11.90s/it, now=None]\u001b[AMoviepy - Done !\n",
      "Moviepy - video ready test_videos_output/solidYellowLeft.mp4\n",
      "CPU times: user 20.1 s, sys: 6.04 s, total: 26.2 s\n",
      "Wall time: 6.89 s\n"
     ]
    }
   ],
   "source": [
    "yellow_output = 'test_videos_output/solidYellowLeft.mp4'\n",
    "## To speed up the testing process you may want to try your pipeline on a shorter subclip of the video\n",
    "## To do so add .subclip(start_second,end_second) to the end of the line below\n",
    "## Where start_second and end_second are integer values representing the start and end of the subclip\n",
    "## You may also uncomment the following line for a subclip of the first 5 seconds\n",
    "##clip2 = VideoFileClip('test_videos/solidYellowLeft.mp4').subclip(0,5)\n",
    "clip2 = VideoFileClip('test_videos/solidYellowLeft.mp4')\n",
    "yellow_clip = clip2.fl_image(process_image)\n",
    "%time yellow_clip.write_videofile(yellow_output, audio=False)"
   ]
  },
  {
   "cell_type": "code",
   "execution_count": null,
   "metadata": {
    "collapsed": false
   },
   "outputs": [],
   "source": [
    "HTML(\"\"\"\n",
    "<video width=\"960\" height=\"540\" controls>\n",
    "  <source src=\"{0}\">\n",
    "</video>\n",
    "\"\"\".format(yellow_output))"
   ]
  },
  {
   "cell_type": "markdown",
   "metadata": {},
   "source": [
    "## Writeup and Submission\n",
    "\n",
    "If you're satisfied with your video outputs, it's time to make the report writeup in a pdf or markdown file. Once you have this Ipython notebook ready along with the writeup, it's time to submit for review! Here is a [link](https://github.com/udacity/CarND-LaneLines-P1/blob/master/writeup_template.md) to the writeup template file.\n"
   ]
  },
  {
   "cell_type": "markdown",
   "metadata": {
    "collapsed": true
   },
   "source": [
    "## Optional Challenge\n",
    "\n",
    "Try your lane finding pipeline on the video below.  Does it still work?  Can you figure out a way to make it more robust?  If you're up for the challenge, modify your pipeline so it works with this video and submit it along with the rest of your project!"
   ]
  },
  {
   "cell_type": "code",
   "execution_count": 19,
   "metadata": {
    "collapsed": true
   },
   "outputs": [
    {
     "output_type": "stream",
     "name": "stderr",
     "text": [
      "\n",
      "t:   1%|          | 3/251 [01:28<2:02:19, 29.60s/it, now=None]\n",
      "\n",
      "t:   1%|          | 3/251 [01:28<2:02:20, 29.60s/it, now=None]\n",
      "t:   2%|▏         | 3/125 [00:40<27:19, 13.44s/it, now=None]\u001b[A\n",
      "\n",
      "t:   0%|          | 0/125 [00:00<?, ?it/s, now=None]\u001b[A\u001b[AMoviepy - Building video test_videos_output/challenge.mp4.\n",
      "Moviepy - Writing video test_videos_output/challenge.mp4\n",
      "\n"
     ]
    },
    {
     "output_type": "error",
     "ename": "OverflowError",
     "evalue": "cannot convert float infinity to integer",
     "traceback": [
      "\u001b[0;31m---------------------------------------------------------------------------\u001b[0m",
      "\u001b[0;31mOverflowError\u001b[0m                             Traceback (most recent call last)",
      "\u001b[0;32m<timed eval>\u001b[0m in \u001b[0;36m<module>\u001b[0;34m\u001b[0m\n",
      "\u001b[0;32m<decorator-gen-171>\u001b[0m in \u001b[0;36mwrite_videofile\u001b[0;34m(self, filename, fps, codec, bitrate, audio, audio_fps, preset, audio_nbytes, audio_codec, audio_bitrate, audio_bufsize, temp_audiofile, rewrite_audio, remove_temp, write_logfile, verbose, threads, ffmpeg_params, logger)\u001b[0m\n",
      "\u001b[0;32m~/anaconda3/lib/python3.8/site-packages/moviepy/decorators.py\u001b[0m in \u001b[0;36mrequires_duration\u001b[0;34m(f, clip, *a, **k)\u001b[0m\n\u001b[1;32m     52\u001b[0m         \u001b[0;32mraise\u001b[0m \u001b[0mValueError\u001b[0m\u001b[0;34m(\u001b[0m\u001b[0;34m\"Attribute 'duration' not set\"\u001b[0m\u001b[0;34m)\u001b[0m\u001b[0;34m\u001b[0m\u001b[0;34m\u001b[0m\u001b[0m\n\u001b[1;32m     53\u001b[0m     \u001b[0;32melse\u001b[0m\u001b[0;34m:\u001b[0m\u001b[0;34m\u001b[0m\u001b[0;34m\u001b[0m\u001b[0m\n\u001b[0;32m---> 54\u001b[0;31m         \u001b[0;32mreturn\u001b[0m \u001b[0mf\u001b[0m\u001b[0;34m(\u001b[0m\u001b[0mclip\u001b[0m\u001b[0;34m,\u001b[0m \u001b[0;34m*\u001b[0m\u001b[0ma\u001b[0m\u001b[0;34m,\u001b[0m \u001b[0;34m**\u001b[0m\u001b[0mk\u001b[0m\u001b[0;34m)\u001b[0m\u001b[0;34m\u001b[0m\u001b[0;34m\u001b[0m\u001b[0m\n\u001b[0m\u001b[1;32m     55\u001b[0m \u001b[0;34m\u001b[0m\u001b[0m\n\u001b[1;32m     56\u001b[0m \u001b[0;34m\u001b[0m\u001b[0m\n",
      "\u001b[0;32m<decorator-gen-170>\u001b[0m in \u001b[0;36mwrite_videofile\u001b[0;34m(self, filename, fps, codec, bitrate, audio, audio_fps, preset, audio_nbytes, audio_codec, audio_bitrate, audio_bufsize, temp_audiofile, rewrite_audio, remove_temp, write_logfile, verbose, threads, ffmpeg_params, logger)\u001b[0m\n",
      "\u001b[0;32m~/anaconda3/lib/python3.8/site-packages/moviepy/decorators.py\u001b[0m in \u001b[0;36muse_clip_fps_by_default\u001b[0;34m(f, clip, *a, **k)\u001b[0m\n\u001b[1;32m    133\u001b[0m              for (k,v) in k.items()}\n\u001b[1;32m    134\u001b[0m \u001b[0;34m\u001b[0m\u001b[0m\n\u001b[0;32m--> 135\u001b[0;31m     \u001b[0;32mreturn\u001b[0m \u001b[0mf\u001b[0m\u001b[0;34m(\u001b[0m\u001b[0mclip\u001b[0m\u001b[0;34m,\u001b[0m \u001b[0;34m*\u001b[0m\u001b[0mnew_a\u001b[0m\u001b[0;34m,\u001b[0m \u001b[0;34m**\u001b[0m\u001b[0mnew_kw\u001b[0m\u001b[0;34m)\u001b[0m\u001b[0;34m\u001b[0m\u001b[0;34m\u001b[0m\u001b[0m\n\u001b[0m",
      "\u001b[0;32m<decorator-gen-169>\u001b[0m in \u001b[0;36mwrite_videofile\u001b[0;34m(self, filename, fps, codec, bitrate, audio, audio_fps, preset, audio_nbytes, audio_codec, audio_bitrate, audio_bufsize, temp_audiofile, rewrite_audio, remove_temp, write_logfile, verbose, threads, ffmpeg_params, logger)\u001b[0m\n",
      "\u001b[0;32m~/anaconda3/lib/python3.8/site-packages/moviepy/decorators.py\u001b[0m in \u001b[0;36mconvert_masks_to_RGB\u001b[0;34m(f, clip, *a, **k)\u001b[0m\n\u001b[1;32m     20\u001b[0m     \u001b[0;32mif\u001b[0m \u001b[0mclip\u001b[0m\u001b[0;34m.\u001b[0m\u001b[0mismask\u001b[0m\u001b[0;34m:\u001b[0m\u001b[0;34m\u001b[0m\u001b[0;34m\u001b[0m\u001b[0m\n\u001b[1;32m     21\u001b[0m         \u001b[0mclip\u001b[0m \u001b[0;34m=\u001b[0m \u001b[0mclip\u001b[0m\u001b[0;34m.\u001b[0m\u001b[0mto_RGB\u001b[0m\u001b[0;34m(\u001b[0m\u001b[0;34m)\u001b[0m\u001b[0;34m\u001b[0m\u001b[0;34m\u001b[0m\u001b[0m\n\u001b[0;32m---> 22\u001b[0;31m     \u001b[0;32mreturn\u001b[0m \u001b[0mf\u001b[0m\u001b[0;34m(\u001b[0m\u001b[0mclip\u001b[0m\u001b[0;34m,\u001b[0m \u001b[0;34m*\u001b[0m\u001b[0ma\u001b[0m\u001b[0;34m,\u001b[0m \u001b[0;34m**\u001b[0m\u001b[0mk\u001b[0m\u001b[0;34m)\u001b[0m\u001b[0;34m\u001b[0m\u001b[0;34m\u001b[0m\u001b[0m\n\u001b[0m\u001b[1;32m     23\u001b[0m \u001b[0;34m\u001b[0m\u001b[0m\n\u001b[1;32m     24\u001b[0m \u001b[0;34m@\u001b[0m\u001b[0mdecorator\u001b[0m\u001b[0;34m.\u001b[0m\u001b[0mdecorator\u001b[0m\u001b[0;34m\u001b[0m\u001b[0;34m\u001b[0m\u001b[0m\n",
      "\u001b[0;32m~/anaconda3/lib/python3.8/site-packages/moviepy/video/VideoClip.py\u001b[0m in \u001b[0;36mwrite_videofile\u001b[0;34m(self, filename, fps, codec, bitrate, audio, audio_fps, preset, audio_nbytes, audio_codec, audio_bitrate, audio_bufsize, temp_audiofile, rewrite_audio, remove_temp, write_logfile, verbose, threads, ffmpeg_params, logger)\u001b[0m\n\u001b[1;32m    298\u001b[0m                                        logger=logger)\n\u001b[1;32m    299\u001b[0m \u001b[0;34m\u001b[0m\u001b[0m\n\u001b[0;32m--> 300\u001b[0;31m         ffmpeg_write_video(self, filename, fps, codec,\n\u001b[0m\u001b[1;32m    301\u001b[0m                            \u001b[0mbitrate\u001b[0m\u001b[0;34m=\u001b[0m\u001b[0mbitrate\u001b[0m\u001b[0;34m,\u001b[0m\u001b[0;34m\u001b[0m\u001b[0;34m\u001b[0m\u001b[0m\n\u001b[1;32m    302\u001b[0m                            \u001b[0mpreset\u001b[0m\u001b[0;34m=\u001b[0m\u001b[0mpreset\u001b[0m\u001b[0;34m,\u001b[0m\u001b[0;34m\u001b[0m\u001b[0;34m\u001b[0m\u001b[0m\n",
      "\u001b[0;32m~/anaconda3/lib/python3.8/site-packages/moviepy/video/io/ffmpeg_writer.py\u001b[0m in \u001b[0;36mffmpeg_write_video\u001b[0;34m(clip, filename, fps, codec, bitrate, preset, withmask, write_logfile, audiofile, verbose, threads, ffmpeg_params, logger)\u001b[0m\n\u001b[1;32m    218\u001b[0m         \u001b[0mnframes\u001b[0m \u001b[0;34m=\u001b[0m \u001b[0mint\u001b[0m\u001b[0;34m(\u001b[0m\u001b[0mclip\u001b[0m\u001b[0;34m.\u001b[0m\u001b[0mduration\u001b[0m\u001b[0;34m*\u001b[0m\u001b[0mfps\u001b[0m\u001b[0;34m)\u001b[0m\u001b[0;34m\u001b[0m\u001b[0;34m\u001b[0m\u001b[0m\n\u001b[1;32m    219\u001b[0m \u001b[0;34m\u001b[0m\u001b[0m\n\u001b[0;32m--> 220\u001b[0;31m         for t,frame in clip.iter_frames(logger=logger, with_times=True,\n\u001b[0m\u001b[1;32m    221\u001b[0m                                         fps=fps, dtype=\"uint8\"):\n\u001b[1;32m    222\u001b[0m             \u001b[0;32mif\u001b[0m \u001b[0mwithmask\u001b[0m\u001b[0;34m:\u001b[0m\u001b[0;34m\u001b[0m\u001b[0;34m\u001b[0m\u001b[0m\n",
      "\u001b[0;32m~/anaconda3/lib/python3.8/site-packages/moviepy/Clip.py\u001b[0m in \u001b[0;36miter_frames\u001b[0;34m(self, fps, with_times, logger, dtype)\u001b[0m\n\u001b[1;32m    470\u001b[0m         \u001b[0mlogger\u001b[0m \u001b[0;34m=\u001b[0m \u001b[0mproglog\u001b[0m\u001b[0;34m.\u001b[0m\u001b[0mdefault_bar_logger\u001b[0m\u001b[0;34m(\u001b[0m\u001b[0mlogger\u001b[0m\u001b[0;34m)\u001b[0m\u001b[0;34m\u001b[0m\u001b[0;34m\u001b[0m\u001b[0m\n\u001b[1;32m    471\u001b[0m         \u001b[0;32mfor\u001b[0m \u001b[0mt\u001b[0m \u001b[0;32min\u001b[0m \u001b[0mlogger\u001b[0m\u001b[0;34m.\u001b[0m\u001b[0miter_bar\u001b[0m\u001b[0;34m(\u001b[0m\u001b[0mt\u001b[0m\u001b[0;34m=\u001b[0m\u001b[0mnp\u001b[0m\u001b[0;34m.\u001b[0m\u001b[0marange\u001b[0m\u001b[0;34m(\u001b[0m\u001b[0;36m0\u001b[0m\u001b[0;34m,\u001b[0m \u001b[0mself\u001b[0m\u001b[0;34m.\u001b[0m\u001b[0mduration\u001b[0m\u001b[0;34m,\u001b[0m \u001b[0;36m1.0\u001b[0m\u001b[0;34m/\u001b[0m\u001b[0mfps\u001b[0m\u001b[0;34m)\u001b[0m\u001b[0;34m)\u001b[0m\u001b[0;34m:\u001b[0m\u001b[0;34m\u001b[0m\u001b[0;34m\u001b[0m\u001b[0m\n\u001b[0;32m--> 472\u001b[0;31m             \u001b[0mframe\u001b[0m \u001b[0;34m=\u001b[0m \u001b[0mself\u001b[0m\u001b[0;34m.\u001b[0m\u001b[0mget_frame\u001b[0m\u001b[0;34m(\u001b[0m\u001b[0mt\u001b[0m\u001b[0;34m)\u001b[0m\u001b[0;34m\u001b[0m\u001b[0;34m\u001b[0m\u001b[0m\n\u001b[0m\u001b[1;32m    473\u001b[0m             \u001b[0;32mif\u001b[0m \u001b[0;34m(\u001b[0m\u001b[0mdtype\u001b[0m \u001b[0;32mis\u001b[0m \u001b[0;32mnot\u001b[0m \u001b[0;32mNone\u001b[0m\u001b[0;34m)\u001b[0m \u001b[0;32mand\u001b[0m \u001b[0;34m(\u001b[0m\u001b[0mframe\u001b[0m\u001b[0;34m.\u001b[0m\u001b[0mdtype\u001b[0m \u001b[0;34m!=\u001b[0m \u001b[0mdtype\u001b[0m\u001b[0;34m)\u001b[0m\u001b[0;34m:\u001b[0m\u001b[0;34m\u001b[0m\u001b[0;34m\u001b[0m\u001b[0m\n\u001b[1;32m    474\u001b[0m                 \u001b[0mframe\u001b[0m \u001b[0;34m=\u001b[0m \u001b[0mframe\u001b[0m\u001b[0;34m.\u001b[0m\u001b[0mastype\u001b[0m\u001b[0;34m(\u001b[0m\u001b[0mdtype\u001b[0m\u001b[0;34m)\u001b[0m\u001b[0;34m\u001b[0m\u001b[0;34m\u001b[0m\u001b[0m\n",
      "\u001b[0;32m<decorator-gen-127>\u001b[0m in \u001b[0;36mget_frame\u001b[0;34m(self, t)\u001b[0m\n",
      "\u001b[0;32m~/anaconda3/lib/python3.8/site-packages/moviepy/decorators.py\u001b[0m in \u001b[0;36mwrapper\u001b[0;34m(f, *a, **kw)\u001b[0m\n\u001b[1;32m     87\u001b[0m         new_kw = {k: fun(v) if k in varnames else v\n\u001b[1;32m     88\u001b[0m                  for (k,v) in kw.items()}\n\u001b[0;32m---> 89\u001b[0;31m         \u001b[0;32mreturn\u001b[0m \u001b[0mf\u001b[0m\u001b[0;34m(\u001b[0m\u001b[0;34m*\u001b[0m\u001b[0mnew_a\u001b[0m\u001b[0;34m,\u001b[0m \u001b[0;34m**\u001b[0m\u001b[0mnew_kw\u001b[0m\u001b[0;34m)\u001b[0m\u001b[0;34m\u001b[0m\u001b[0;34m\u001b[0m\u001b[0m\n\u001b[0m\u001b[1;32m     90\u001b[0m     \u001b[0;32mreturn\u001b[0m \u001b[0mdecorator\u001b[0m\u001b[0;34m.\u001b[0m\u001b[0mdecorator\u001b[0m\u001b[0;34m(\u001b[0m\u001b[0mwrapper\u001b[0m\u001b[0;34m)\u001b[0m\u001b[0;34m\u001b[0m\u001b[0;34m\u001b[0m\u001b[0m\n\u001b[1;32m     91\u001b[0m \u001b[0;34m\u001b[0m\u001b[0m\n",
      "\u001b[0;32m~/anaconda3/lib/python3.8/site-packages/moviepy/Clip.py\u001b[0m in \u001b[0;36mget_frame\u001b[0;34m(self, t)\u001b[0m\n\u001b[1;32m     91\u001b[0m                 \u001b[0;32mreturn\u001b[0m \u001b[0mframe\u001b[0m\u001b[0;34m\u001b[0m\u001b[0;34m\u001b[0m\u001b[0m\n\u001b[1;32m     92\u001b[0m         \u001b[0;32melse\u001b[0m\u001b[0;34m:\u001b[0m\u001b[0;34m\u001b[0m\u001b[0;34m\u001b[0m\u001b[0m\n\u001b[0;32m---> 93\u001b[0;31m             \u001b[0;32mreturn\u001b[0m \u001b[0mself\u001b[0m\u001b[0;34m.\u001b[0m\u001b[0mmake_frame\u001b[0m\u001b[0;34m(\u001b[0m\u001b[0mt\u001b[0m\u001b[0;34m)\u001b[0m\u001b[0;34m\u001b[0m\u001b[0;34m\u001b[0m\u001b[0m\n\u001b[0m\u001b[1;32m     94\u001b[0m \u001b[0;34m\u001b[0m\u001b[0m\n\u001b[1;32m     95\u001b[0m     \u001b[0;32mdef\u001b[0m \u001b[0mfl\u001b[0m\u001b[0;34m(\u001b[0m\u001b[0mself\u001b[0m\u001b[0;34m,\u001b[0m \u001b[0mfun\u001b[0m\u001b[0;34m,\u001b[0m \u001b[0mapply_to\u001b[0m\u001b[0;34m=\u001b[0m\u001b[0;32mNone\u001b[0m\u001b[0;34m,\u001b[0m \u001b[0mkeep_duration\u001b[0m\u001b[0;34m=\u001b[0m\u001b[0;32mTrue\u001b[0m\u001b[0;34m)\u001b[0m\u001b[0;34m:\u001b[0m\u001b[0;34m\u001b[0m\u001b[0;34m\u001b[0m\u001b[0m\n",
      "\u001b[0;32m~/anaconda3/lib/python3.8/site-packages/moviepy/Clip.py\u001b[0m in \u001b[0;36m<lambda>\u001b[0;34m(t)\u001b[0m\n\u001b[1;32m    134\u001b[0m \u001b[0;34m\u001b[0m\u001b[0m\n\u001b[1;32m    135\u001b[0m         \u001b[0;31m#mf = copy(self.make_frame)\u001b[0m\u001b[0;34m\u001b[0m\u001b[0;34m\u001b[0m\u001b[0;34m\u001b[0m\u001b[0m\n\u001b[0;32m--> 136\u001b[0;31m         \u001b[0mnewclip\u001b[0m \u001b[0;34m=\u001b[0m \u001b[0mself\u001b[0m\u001b[0;34m.\u001b[0m\u001b[0mset_make_frame\u001b[0m\u001b[0;34m(\u001b[0m\u001b[0;32mlambda\u001b[0m \u001b[0mt\u001b[0m\u001b[0;34m:\u001b[0m \u001b[0mfun\u001b[0m\u001b[0;34m(\u001b[0m\u001b[0mself\u001b[0m\u001b[0;34m.\u001b[0m\u001b[0mget_frame\u001b[0m\u001b[0;34m,\u001b[0m \u001b[0mt\u001b[0m\u001b[0;34m)\u001b[0m\u001b[0;34m)\u001b[0m\u001b[0;34m\u001b[0m\u001b[0;34m\u001b[0m\u001b[0m\n\u001b[0m\u001b[1;32m    137\u001b[0m \u001b[0;34m\u001b[0m\u001b[0m\n\u001b[1;32m    138\u001b[0m         \u001b[0;32mif\u001b[0m \u001b[0;32mnot\u001b[0m \u001b[0mkeep_duration\u001b[0m\u001b[0;34m:\u001b[0m\u001b[0;34m\u001b[0m\u001b[0;34m\u001b[0m\u001b[0m\n",
      "\u001b[0;32m~/anaconda3/lib/python3.8/site-packages/moviepy/video/VideoClip.py\u001b[0m in \u001b[0;36m<lambda>\u001b[0;34m(gf, t)\u001b[0m\n\u001b[1;32m    488\u001b[0m         \"\"\"\n\u001b[1;32m    489\u001b[0m         \u001b[0mapply_to\u001b[0m \u001b[0;34m=\u001b[0m \u001b[0mapply_to\u001b[0m \u001b[0;32mor\u001b[0m \u001b[0;34m[\u001b[0m\u001b[0;34m]\u001b[0m\u001b[0;34m\u001b[0m\u001b[0;34m\u001b[0m\u001b[0m\n\u001b[0;32m--> 490\u001b[0;31m         \u001b[0;32mreturn\u001b[0m \u001b[0mself\u001b[0m\u001b[0;34m.\u001b[0m\u001b[0mfl\u001b[0m\u001b[0;34m(\u001b[0m\u001b[0;32mlambda\u001b[0m \u001b[0mgf\u001b[0m\u001b[0;34m,\u001b[0m \u001b[0mt\u001b[0m\u001b[0;34m:\u001b[0m \u001b[0mimage_func\u001b[0m\u001b[0;34m(\u001b[0m\u001b[0mgf\u001b[0m\u001b[0;34m(\u001b[0m\u001b[0mt\u001b[0m\u001b[0;34m)\u001b[0m\u001b[0;34m)\u001b[0m\u001b[0;34m,\u001b[0m \u001b[0mapply_to\u001b[0m\u001b[0;34m)\u001b[0m\u001b[0;34m\u001b[0m\u001b[0;34m\u001b[0m\u001b[0m\n\u001b[0m\u001b[1;32m    491\u001b[0m \u001b[0;34m\u001b[0m\u001b[0m\n\u001b[1;32m    492\u001b[0m     \u001b[0;31m# --------------------------------------------------------------\u001b[0m\u001b[0;34m\u001b[0m\u001b[0;34m\u001b[0m\u001b[0;34m\u001b[0m\u001b[0m\n",
      "\u001b[0;32m<ipython-input-5-bc43313018cc>\u001b[0m in \u001b[0;36mprocess_image\u001b[0;34m(image)\u001b[0m\n\u001b[1;32m     19\u001b[0m     \u001b[0mvid_fr_cann\u001b[0m \u001b[0;34m=\u001b[0m \u001b[0mcanny\u001b[0m\u001b[0;34m(\u001b[0m\u001b[0mvid_fr_blur\u001b[0m\u001b[0;34m,\u001b[0m \u001b[0mcanny_low_threshold\u001b[0m\u001b[0;34m,\u001b[0m \u001b[0mcanny_high_threshold\u001b[0m\u001b[0;34m)\u001b[0m\u001b[0;34m\u001b[0m\u001b[0;34m\u001b[0m\u001b[0m\n\u001b[1;32m     20\u001b[0m     \u001b[0mvid_fr_roi\u001b[0m  \u001b[0;34m=\u001b[0m \u001b[0mROIAction\u001b[0m\u001b[0;34m(\u001b[0m\u001b[0mvid_fr_cann\u001b[0m\u001b[0;34m)\u001b[0m\u001b[0;34m\u001b[0m\u001b[0;34m\u001b[0m\u001b[0m\n\u001b[0;32m---> 21\u001b[0;31m     \u001b[0mvid_fr_houg\u001b[0m \u001b[0;34m=\u001b[0m \u001b[0mhough_lines\u001b[0m\u001b[0;34m(\u001b[0m\u001b[0mvid_fr_roi\u001b[0m\u001b[0;34m,\u001b[0m \u001b[0mrho\u001b[0m\u001b[0;34m,\u001b[0m \u001b[0mtheta\u001b[0m\u001b[0;34m,\u001b[0m \u001b[0mthreshold\u001b[0m\u001b[0;34m,\u001b[0m \u001b[0mmin_line_length\u001b[0m\u001b[0;34m,\u001b[0m \u001b[0mmax_line_gap\u001b[0m\u001b[0;34m)\u001b[0m\u001b[0;34m\u001b[0m\u001b[0;34m\u001b[0m\u001b[0m\n\u001b[0m\u001b[1;32m     22\u001b[0m     \u001b[0mvid_fr_merg\u001b[0m \u001b[0;34m=\u001b[0m \u001b[0mweighted_img\u001b[0m\u001b[0;34m(\u001b[0m\u001b[0mvid_fr_houg\u001b[0m\u001b[0;34m,\u001b[0m \u001b[0mimage\u001b[0m\u001b[0;34m)\u001b[0m\u001b[0;34m\u001b[0m\u001b[0;34m\u001b[0m\u001b[0m\n\u001b[1;32m     23\u001b[0m \u001b[0;34m\u001b[0m\u001b[0m\n",
      "\u001b[0;32m<ipython-input-2-3b927df3dc94>\u001b[0m in \u001b[0;36mhough_lines\u001b[0;34m(img, rho, theta, threshold, min_line_len, max_line_gap)\u001b[0m\n\u001b[1;32m    195\u001b[0m     \u001b[0mlines\u001b[0m \u001b[0;34m=\u001b[0m \u001b[0mcv2\u001b[0m\u001b[0;34m.\u001b[0m\u001b[0mHoughLinesP\u001b[0m\u001b[0;34m(\u001b[0m\u001b[0mimg\u001b[0m\u001b[0;34m,\u001b[0m \u001b[0mrho\u001b[0m\u001b[0;34m,\u001b[0m \u001b[0mtheta\u001b[0m\u001b[0;34m,\u001b[0m \u001b[0mthreshold\u001b[0m\u001b[0;34m,\u001b[0m \u001b[0mnp\u001b[0m\u001b[0;34m.\u001b[0m\u001b[0marray\u001b[0m\u001b[0;34m(\u001b[0m\u001b[0;34m[\u001b[0m\u001b[0;34m]\u001b[0m\u001b[0;34m)\u001b[0m\u001b[0;34m,\u001b[0m \u001b[0mminLineLength\u001b[0m\u001b[0;34m=\u001b[0m\u001b[0mmin_line_len\u001b[0m\u001b[0;34m,\u001b[0m \u001b[0mmaxLineGap\u001b[0m\u001b[0;34m=\u001b[0m\u001b[0mmax_line_gap\u001b[0m\u001b[0;34m)\u001b[0m\u001b[0;34m\u001b[0m\u001b[0;34m\u001b[0m\u001b[0m\n\u001b[1;32m    196\u001b[0m     \u001b[0mline_img\u001b[0m \u001b[0;34m=\u001b[0m \u001b[0mnp\u001b[0m\u001b[0;34m.\u001b[0m\u001b[0mzeros\u001b[0m\u001b[0;34m(\u001b[0m\u001b[0;34m(\u001b[0m\u001b[0mimg\u001b[0m\u001b[0;34m.\u001b[0m\u001b[0mshape\u001b[0m\u001b[0;34m[\u001b[0m\u001b[0;36m0\u001b[0m\u001b[0;34m]\u001b[0m\u001b[0;34m,\u001b[0m \u001b[0mimg\u001b[0m\u001b[0;34m.\u001b[0m\u001b[0mshape\u001b[0m\u001b[0;34m[\u001b[0m\u001b[0;36m1\u001b[0m\u001b[0;34m]\u001b[0m\u001b[0;34m,\u001b[0m \u001b[0;36m3\u001b[0m\u001b[0;34m)\u001b[0m\u001b[0;34m,\u001b[0m \u001b[0mdtype\u001b[0m\u001b[0;34m=\u001b[0m\u001b[0mnp\u001b[0m\u001b[0;34m.\u001b[0m\u001b[0muint8\u001b[0m\u001b[0;34m)\u001b[0m\u001b[0;34m\u001b[0m\u001b[0;34m\u001b[0m\u001b[0m\n\u001b[0;32m--> 197\u001b[0;31m     \u001b[0mdraw_lines\u001b[0m\u001b[0;34m(\u001b[0m\u001b[0mline_img\u001b[0m\u001b[0;34m,\u001b[0m \u001b[0mlines\u001b[0m\u001b[0;34m)\u001b[0m\u001b[0;34m\u001b[0m\u001b[0;34m\u001b[0m\u001b[0m\n\u001b[0m\u001b[1;32m    198\u001b[0m     \u001b[0;32mreturn\u001b[0m \u001b[0mline_img\u001b[0m\u001b[0;34m\u001b[0m\u001b[0;34m\u001b[0m\u001b[0m\n\u001b[1;32m    199\u001b[0m \u001b[0;34m\u001b[0m\u001b[0m\n",
      "\u001b[0;32m<ipython-input-2-3b927df3dc94>\u001b[0m in \u001b[0;36mdraw_lines\u001b[0;34m(img, lines, avg_qty, y_min, color, thickness)\u001b[0m\n\u001b[1;32m    177\u001b[0m \u001b[0;34m\u001b[0m\u001b[0m\n\u001b[1;32m    178\u001b[0m         \u001b[0;31m# Calculate lines\u001b[0m\u001b[0;34m\u001b[0m\u001b[0;34m\u001b[0m\u001b[0;34m\u001b[0m\u001b[0m\n\u001b[0;32m--> 179\u001b[0;31m         \u001b[0mx1\u001b[0m \u001b[0;34m=\u001b[0m \u001b[0mint\u001b[0m\u001b[0;34m(\u001b[0m\u001b[0;34m(\u001b[0m\u001b[0my_min\u001b[0m \u001b[0;34m-\u001b[0m \u001b[0mright_b\u001b[0m\u001b[0;34m)\u001b[0m \u001b[0;34m/\u001b[0m \u001b[0mright_slope\u001b[0m\u001b[0;34m)\u001b[0m\u001b[0;34m\u001b[0m\u001b[0;34m\u001b[0m\u001b[0m\n\u001b[0m\u001b[1;32m    180\u001b[0m         \u001b[0mx2\u001b[0m \u001b[0;34m=\u001b[0m \u001b[0mint\u001b[0m\u001b[0;34m(\u001b[0m\u001b[0;34m(\u001b[0m\u001b[0my\u001b[0m \u001b[0;34m-\u001b[0m \u001b[0mright_b\u001b[0m\u001b[0;34m)\u001b[0m \u001b[0;34m/\u001b[0m \u001b[0mright_slope\u001b[0m\u001b[0;34m)\u001b[0m\u001b[0;34m\u001b[0m\u001b[0;34m\u001b[0m\u001b[0m\n\u001b[1;32m    181\u001b[0m \u001b[0;34m\u001b[0m\u001b[0m\n",
      "\u001b[0;31mOverflowError\u001b[0m: cannot convert float infinity to integer"
     ]
    }
   ],
   "source": [
    "challenge_output = 'test_videos_output/challenge.mp4'\n",
    "## To speed up the testing process you may want to try your pipeline on a shorter subclip of the video\n",
    "## To do so add .subclip(start_second,end_second) to the end of the line below\n",
    "## Where start_second and end_second are integer values representing the start and end of the subclip\n",
    "## You may also uncomment the following line for a subclip of the first 5 seconds\n",
    "##clip3 = VideoFileClip('test_videos/challenge.mp4').subclip(0,5)\n",
    "clip3 = VideoFileClip('test_videos/challenge.mp4').subclip(0,5)\n",
    "challenge_clip = clip3.fl_image(process_image)\n",
    "%time challenge_clip.write_videofile(challenge_output, audio=False)"
   ]
  },
  {
   "cell_type": "code",
   "execution_count": null,
   "metadata": {
    "collapsed": true
   },
   "outputs": [],
   "source": [
    "HTML(\"\"\"\n",
    "<video width=\"960\" height=\"540\" controls>\n",
    "  <source src=\"{0}\">\n",
    "</video>\n",
    "\"\"\".format(challenge_output))"
   ]
  }
 ],
 "metadata": {
  "anaconda-cloud": {},
  "kernelspec": {
   "display_name": "Python 3",
   "language": "python",
   "name": "python3"
  },
  "language_info": {
   "codemirror_mode": {
    "name": "ipython",
    "version": 3
   },
   "file_extension": ".py",
   "mimetype": "text/x-python",
   "name": "python",
   "nbconvert_exporter": "python",
   "pygments_lexer": "ipython3",
   "version": "3.8.5-final"
  }
 },
 "nbformat": 4,
 "nbformat_minor": 0
}